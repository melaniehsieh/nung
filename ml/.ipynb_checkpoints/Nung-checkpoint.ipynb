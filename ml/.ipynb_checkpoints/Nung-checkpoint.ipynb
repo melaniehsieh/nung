{
 "cells": [
  {
   "cell_type": "code",
   "execution_count": null,
   "metadata": {
    "colab": {
     "base_uri": "https://localhost:8080/",
     "height": 282
    },
    "id": "Hly6Nr7uuJyb",
    "outputId": "945e00cf-e6be-4dbf-e7b2-bf669f374078"
   },
   "outputs": [],
   "source": [
    "import matplotlib.pyplot as plt\n",
    "import numpy\n",
    "import pandas as pd\n",
    "import math\n",
    "from sigfig import round\n",
    "\n",
    "marker_points = 5\n",
    "\n",
    "dataset = pd.read_csv('./data.csv')\n",
    "x = (dataset.iloc[:, 0].values) - 1 \n",
    "x1 = dataset.iloc[:, 1].values\n",
    "y = dataset.iloc[:, 2].values\n",
    "\n",
    "f = numpy.poly1d(numpy.polyfit(x, y, 7))\n",
    "print(f)\n",
    "\n",
    "x_axis = numpy.linspace(x[0], x[-1], len(x))\n",
    "y_axis = f(x_axis)\n",
    "plt.plot(x,y,\"rx\")\n",
    "\n",
    "y_val = []\n",
    "y_1d = y_axis.flatten()\n",
    "y_1d.sort()\n",
    "\n",
    "for i in range(marker_points):\n",
    "    y_val.append(y_1d[-i-1])\n",
    "\n",
    "x_val = []\n",
    "y_counter = 0\n",
    "for y in y_val:\n",
    "    for i in x_axis:\n",
    "        if numpy.polyval(f, i) == y_val[y_counter]:\n",
    "            x_val.append(x1[math.floor(i)])          \n",
    "    y_counter += 1\n",
    "\n",
    "plt.plot(x1, y_axis)\n",
    "plt.plot(x_val, y_val, 'bo')\n",
    "plt.xticks(rotation=90)\n",
    "print(x_val)\n",
    "print(numpy.round_(y_val, decimals = 3))\n",
    "\n",
    "plt.axvline(x = 7.25, ymin = 0.05, ymax = 0.95, color = 'r') \n",
    "\n",
    "plt.show()"
   ]
  }
 ],
 "metadata": {
  "colab": {
   "collapsed_sections": [],
   "name": "nung.ipynb",
   "provenance": []
  },
  "kernelspec": {
   "display_name": "Python 3",
   "language": "python",
   "name": "python3"
  },
  "language_info": {
   "codemirror_mode": {
    "name": "ipython",
    "version": 3
   },
   "file_extension": ".py",
   "mimetype": "text/x-python",
   "name": "python",
   "nbconvert_exporter": "python",
   "pygments_lexer": "ipython3",
   "version": "3.9.1"
  }
 },
 "nbformat": 4,
 "nbformat_minor": 1
}
